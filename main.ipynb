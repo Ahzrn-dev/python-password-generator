{
 "cells": [
  {
   "cell_type": "code",
   "execution_count": 3,
   "id": "a15a3c3d",
   "metadata": {},
   "outputs": [],
   "source": [
    "from abc import abstractmethod , ABC\n",
    "\n",
    "\n",
    "class PasswordGenerator :\n",
    "    @abstractmethod\n",
    "    def generate(self) :\n",
    "        pass\n"
   ]
  },
  {
   "cell_type": "code",
   "execution_count": 9,
   "id": "a99c9b52",
   "metadata": {},
   "outputs": [],
   "source": [
    "import random\n",
    "import string\n",
    "\n",
    "\n",
    "\n",
    "class PinGenerator(PasswordGenerator):\n",
    "    def __init__(self,length):\n",
    "        self.length = length\n",
    "\n",
    "    def generate(self):\n",
    "        return ''.join([random.choice(string.digits) for _ in range (self.length)])        \n",
    "    "
   ]
  },
  {
   "cell_type": "code",
   "execution_count": 16,
   "id": "68e4d0cd",
   "metadata": {},
   "outputs": [],
   "source": [
    "import string\n",
    "class RandomPaswordGenerator(PasswordGenerator):\n",
    "    def __init__(self, length : int = 8 , include_numbers : bool = False , include_symbols : bool = False):\n",
    "        self.length = length\n",
    "        self.characters = string.ascii_letters\n",
    "        if include_numbers :\n",
    "            self.characters += string.digits\n",
    "        if include_symbols :\n",
    "            self.characters += string.punctuation\n",
    "\n",
    "\n",
    "    def generate(self) :\n",
    "            return ''.join([random.choice(self.characters) for _ in range (self.length)])   "
   ]
  },
  {
   "cell_type": "code",
   "execution_count": 63,
   "id": "6dcebd40",
   "metadata": {},
   "outputs": [],
   "source": [
    "class MemorablePasswordGenerator(PasswordGenerator):\n",
    "    def __init__(\n",
    "        self,\n",
    "        num_of_words : int = 4 , \n",
    "        separator : str ='-',\n",
    "        capitalize : bool = False ,\n",
    "        vocabulary : list = None\n",
    "    ):\n",
    "        if vocabulary is None :\n",
    "            self.vocabulary = [\"Apple\",\"Pen\",\"Book\",\"Phone\",\"Laptop\",\"Desk\",\"Chair\",\"Watch\",\"Flower\",\"Shoes\"]\n",
    "\n",
    "        self.num_of_words = num_of_words\n",
    "        self.capitalize=capitalize\n",
    "        self.separator = separator\n",
    "    \n",
    "    def generate(self) :\n",
    "        password_words=[random.choice(self.vocabulary)for _ in range(self.num_of_words)]\n",
    "        if self.capitalize :\n",
    "            password_words = [word.upper() if random.choice([True,False]) else word.lower() for word in password_words]\n",
    "\n",
    "        return self.separator.join(password_words)\n",
    "\n",
    "\n"
   ]
  },
  {
   "cell_type": "code",
   "execution_count": 67,
   "id": "cc116c72",
   "metadata": {},
   "outputs": [
    {
     "data": {
      "text/plain": [
       "'desk-PEN-desk-BOOK'"
      ]
     },
     "execution_count": 67,
     "metadata": {},
     "output_type": "execute_result"
    }
   ],
   "source": [
    "password_generator = MemorablePasswordGenerator(capitalize=True)\n",
    "password_generator.generate()  "
   ]
  },
  {
   "cell_type": "code",
   "execution_count": null,
   "id": "52643c81",
   "metadata": {},
   "outputs": [],
   "source": []
  },
  {
   "cell_type": "code",
   "execution_count": null,
   "id": "1c2fc499",
   "metadata": {},
   "outputs": [],
   "source": []
  },
  {
   "cell_type": "code",
   "execution_count": null,
   "id": "3ab0b217",
   "metadata": {},
   "outputs": [],
   "source": []
  }
 ],
 "metadata": {
  "kernelspec": {
   "display_name": "3.13.7",
   "language": "python",
   "name": "python3"
  },
  "language_info": {
   "codemirror_mode": {
    "name": "ipython",
    "version": 3
   },
   "file_extension": ".py",
   "mimetype": "text/x-python",
   "name": "python",
   "nbconvert_exporter": "python",
   "pygments_lexer": "ipython3",
   "version": "3.13.7"
  }
 },
 "nbformat": 4,
 "nbformat_minor": 5
}
