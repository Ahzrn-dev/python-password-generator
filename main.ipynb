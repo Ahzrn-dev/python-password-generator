{
 "cells": [
  {
   "cell_type": "code",
   "execution_count": 1,
   "id": "a15a3c3d",
   "metadata": {},
   "outputs": [],
   "source": [
    "from abc import abstractmethod , ABC\n",
    "\n",
    "\n",
    "class PasswordGenerator :\n",
    "    @abstractmethod\n",
    "    def generate(self) :\n",
    "        pass\n"
   ]
  },
  {
   "cell_type": "code",
   "execution_count": 21,
   "id": "a99c9b52",
   "metadata": {},
   "outputs": [],
   "source": [
    "import random\n",
    "import string\n",
    "\n",
    "class PinGenerator(PasswordGenerator):\n",
    "    def __init__(self,length):\n",
    "        self.length = length\n",
    "\n",
    "    def generate(self):\n",
    "        return ''.join([random.choice(string.digits) for _ in range (self.length)])        \n",
    "    "
   ]
  },
  {
   "cell_type": "code",
   "execution_count": null,
   "id": "68e4d0cd",
   "metadata": {},
   "outputs": [],
   "source": [
    "class RandomPaswordGenerator(PasswordGenerator):\n",
    "    def __init__(self, length : int = 8 , include_numbers : bool = False , include_symbols : bool = False):\n",
    "        self.length = length\n",
    "        self.characters\n",
    "\n",
    "\n",
    "        def generate(self) :\n",
    "            pass"
   ]
  },
  {
   "cell_type": "code",
   "execution_count": 19,
   "id": "4bba6529",
   "metadata": {},
   "outputs": [
    {
     "data": {
      "text/plain": [
       "'9547451315'"
      ]
     },
     "execution_count": 19,
     "metadata": {},
     "output_type": "execute_result"
    }
   ],
   "source": [
    "password_generator = PinGenerator(10)\n",
    "password_generator.generate()"
   ]
  },
  {
   "cell_type": "code",
   "execution_count": null,
   "id": "6dcebd40",
   "metadata": {},
   "outputs": [],
   "source": []
  }
 ],
 "metadata": {
  "kernelspec": {
   "display_name": "3.13.7",
   "language": "python",
   "name": "python3"
  },
  "language_info": {
   "codemirror_mode": {
    "name": "ipython",
    "version": 3
   },
   "file_extension": ".py",
   "mimetype": "text/x-python",
   "name": "python",
   "nbconvert_exporter": "python",
   "pygments_lexer": "ipython3",
   "version": "3.13.7"
  }
 },
 "nbformat": 4,
 "nbformat_minor": 5
}
